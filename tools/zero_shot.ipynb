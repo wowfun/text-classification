{
 "metadata": {
  "language_info": {
   "codemirror_mode": {
    "name": "ipython",
    "version": 3
   },
   "file_extension": ".py",
   "mimetype": "text/x-python",
   "name": "python",
   "nbconvert_exporter": "python",
   "pygments_lexer": "ipython3",
   "version": "3.8.5-final"
  },
  "orig_nbformat": 2,
  "kernelspec": {
   "name": "python3",
   "display_name": "Python 3.8.5 64-bit ('dev': conda)",
   "metadata": {
    "interpreter": {
     "hash": "e4b0b22f2d11f0434fb63a0921ec7188e32e93a8a281a6177dd07dbc04641f69"
    }
   }
  }
 },
 "nbformat": 4,
 "nbformat_minor": 2,
 "cells": [
  {
   "cell_type": "code",
   "execution_count": null,
   "metadata": {},
   "outputs": [],
   "source": [
    "import sys \n",
    "sys.path.append(\"..\") \n",
    "from collections import Counter\n",
    "from itertools import combinations\n",
    "\n",
    "import pandas as pd\n",
    "import matplotlib.pyplot as plt\n",
    "\n",
    "from utils import data_helper,result_helper"
   ]
  },
  {
   "cell_type": "code",
   "execution_count": null,
   "metadata": {},
   "outputs": [],
   "source": [
    "unlabeled_ds_path='../data/train/unlabeled_data_processed.csv'\n",
    "result_csv_path='../data/train/unlabeled_data_labeled.csv'\n",
    "unlabeled_df=pd.read_csv(unlabeled_ds_path,index_col='id')"
   ]
  },
  {
   "cell_type": "code",
   "execution_count": null,
   "metadata": {},
   "outputs": [],
   "source": [
    "class_label_to_class_dict = {0: '家居', 1: '房产', 2: '教育', 3: '时尚', 4: '时政', 5: '科技', 6: '财经', 7: '游戏', 8: '娱乐', 9: '体育'}\n",
    "\n",
    "shot_key_word_dict=dict()\n",
    "shot_key_word_dict[7]=['通关', '礼包', '副本', '玩家', '普攻', '血量', '女妖', '玩法', '手游', '金币', '大招', '攻略', '游戏', '加成', '攻击力', '法师'] # 游戏\n",
    "shot_key_word_dict[8]=['演技', '银幕', '传媒', '执导', '主创', '明星', '剧中', '影院', '片中', '导演', '票房', '出演', '播出', '剧本', '蜘蛛侠', '粉丝', '好莱坞', '该片', '预告片', '电视剧', '制片人', '影片', '上映', '主演', '喜剧', '领衔主演', '特辑', '饰演', '电影节', '影迷', '编剧', '剧组', '电影', '监制', '影业', '影视', '演员', '出品', '观影', '动画', '媒体', '该剧'] # 娱乐\n",
    "shot_key_word_dict[9]=['女排', '运动员', '奥运会', '体育', 'NBA', '发球', '锦标赛', '参赛', '队员', '男排', '奥运', '羽毛球', '标准杆'] # 体育"
   ]
  },
  {
   "cell_type": "code",
   "execution_count": null,
   "metadata": {},
   "outputs": [],
   "source": [
    "num_words_based=2\n",
    "\n",
    "sub_df=pd.DataFrame(columns=['cutted_content','class_label'])\n",
    "for key in shot_key_word_dict.keys():\n",
    "    words_in_other_keys=[]\n",
    "    for other_key in shot_key_word_dict.keys():\n",
    "        if key!=other_key:\n",
    "            words_in_other_keys.extend(shot_key_word_dict[other_key])\n",
    "    regex_pat_in_other_keys='|'.join(str(word) for word in words_in_other_keys)\n",
    "    words_self_combine_list=list(combinations(shot_key_word_dict[key],num_words_based))\n",
    "    for words in words_self_combine_list:\n",
    "        # print(word)\n",
    "        # and: '(?=.*subpartA)(?=.*element1)'\n",
    "        regex_pat_in_self_key=''.join('(?=.*'+str(word)+')' for word in words)\n",
    "        filtered_df=unlabeled_df[unlabeled_df['cutted_content'].str.contains(regex_pat_in_self_key,regex=True)]\n",
    "        filtered_df=filtered_df[~filtered_df['cutted_content'].str.contains(regex_pat_in_other_keys,regex=True)]\n",
    "        filtered_df['class_label']=class_label_to_class_dict[key]\n",
    "        filtered_df['by_words']=str(words)\n",
    "\n",
    "        sub_df=sub_df.append(filtered_df)\n",
    "\n",
    "print(len(sub_df))\n",
    "sub_df=sub_df.drop_duplicates(subset=['cutted_content']) # 去除重复的cutted_content\n",
    "print(len(sub_df))\n",
    "sub_df.to_csv(result_csv_path,index=False)"
   ]
  },
  {
   "cell_type": "code",
   "execution_count": null,
   "metadata": {},
   "outputs": [],
   "source": [
    "# 类别分布\n",
    "label_cnts=dict(sub_df['class_label'].value_counts())\n",
    "plt.bar(label_cnts.keys(),label_cnts.values())\n",
    "plt.xlabel('class_label')\n",
    "plt.title('Label bar')\n",
    "print(label_cnts.keys())\n",
    "print(sub_df['class_label'].value_counts())"
   ]
  }
 ]
}