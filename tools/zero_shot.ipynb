{
 "metadata": {
  "language_info": {
   "codemirror_mode": {
    "name": "ipython",
    "version": 3
   },
   "file_extension": ".py",
   "mimetype": "text/x-python",
   "name": "python",
   "nbconvert_exporter": "python",
   "pygments_lexer": "ipython3",
   "version": "3.7.4-final"
  },
  "orig_nbformat": 2,
  "kernelspec": {
   "name": "python3",
   "display_name": "Python 3"
  }
 },
 "nbformat": 4,
 "nbformat_minor": 2,
 "cells": [
  {
   "cell_type": "code",
   "execution_count": 76,
   "metadata": {},
   "outputs": [],
   "source": [
    "import pandas as pd"
   ]
  },
  {
   "cell_type": "code",
   "execution_count": 77,
   "metadata": {},
   "outputs": [],
   "source": [
    "unlabeled_ds_path='../data/train/unlabeled_data.csv'\n",
    "result_csv_path='../data/train/unlabeled_data_labeled.csv'\n",
    "unlabeled_df=pd.read_csv(unlabeled_ds_path,index_col='id')"
   ]
  },
  {
   "cell_type": "code",
   "execution_count": 78,
   "metadata": {},
   "outputs": [],
   "source": [
    "class_label_to_class_dict = {0: '家居', 1: '房产', 2: '教育', 3: '时尚', 4: '时政', 5: '科技', 6: '财经', 7: '游戏', 8: '娱乐', 9: '体育'}\n",
    "\n",
    "shot_key_word_dict=dict()\n",
    "shot_key_word_dict[7]=['玩家', '玩法', '通关', '游戏', '攻略', '手游', '端游', '网游', '近战'] # 游戏\n",
    "shot_key_word_dict[8]=['明星', '粉丝', '上映', '导演', '演员', '主演', '编剧', '热播', '档期', '动画', '影视', '电影', '制片人', '票房', '定档', '媒体', '影片', '执导', '影业', '影片', '综艺'] # 娱乐\n",
    "shot_key_word_dict[9]=['参赛', '锦标赛', '退赛', '国家队', '运动员', '表演赛', '球衣', 'NBA', '奥运会', '体育', '球迷', '队员'] # 体育"
   ]
  },
  {
   "cell_type": "code",
   "execution_count": 79,
   "metadata": {},
   "outputs": [
    {
     "output_type": "stream",
     "name": "stdout",
     "text": [
      "37445\n13176\n"
     ]
    }
   ],
   "source": [
    "sub_df=pd.DataFrame(columns=['content','label'])\n",
    "for key in shot_key_word_dict.keys():\n",
    "    words_in_other_keys=[]\n",
    "    for other_key in shot_key_word_dict.keys():\n",
    "        if key!=other_key:\n",
    "            words_in_other_keys.extend(shot_key_word_dict[other_key])\n",
    "    regex_pat='|'.join(str(word) for word in words_in_other_keys)\n",
    "    for word in shot_key_word_dict[key]:\n",
    "        # print(word)\n",
    "        \n",
    "        filtered_df=unlabeled_df[unlabeled_df['content'].str.contains(word)]\n",
    "        filtered_df=filtered_df[~filtered_df['content'].str.contains(regex_pat,regex=True)]\n",
    "        filtered_df['label']=class_label_to_class_dict[key]\n",
    "        filtered_df['by_word']=word\n",
    "\n",
    "        sub_df=sub_df.append(filtered_df)\n",
    "\n",
    "print(len(sub_df))\n",
    "sub_df=sub_df.drop_duplicates(subset=['content']) # 去除重复的content\n",
    "print(len(sub_df))\n",
    "sub_df.to_csv(result_csv_path,index=False)"
   ]
  },
  {
   "cell_type": "code",
   "execution_count": null,
   "metadata": {},
   "outputs": [],
   "source": []
  }
 ]
}