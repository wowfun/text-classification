{
 "metadata": {
  "language_info": {
   "codemirror_mode": {
    "name": "ipython",
    "version": 3
   },
   "file_extension": ".py",
   "mimetype": "text/x-python",
   "name": "python",
   "nbconvert_exporter": "python",
   "pygments_lexer": "ipython3",
   "version": "3.8.5-final"
  },
  "orig_nbformat": 2,
  "kernelspec": {
   "name": "python3",
   "display_name": "Python 3.8.5 64-bit ('dev': conda)",
   "metadata": {
    "interpreter": {
     "hash": "e4b0b22f2d11f0434fb63a0921ec7188e32e93a8a281a6177dd07dbc04641f69"
    }
   }
  }
 },
 "nbformat": 4,
 "nbformat_minor": 2,
 "cells": [
  {
   "cell_type": "code",
   "execution_count": 5,
   "metadata": {},
   "outputs": [],
   "source": [
    "import sys \n",
    "sys.path.append(\"..\") \n",
    "from collections import Counter\n",
    "import pandas as pd\n",
    "\n",
    "\n",
    "from utils import data_helper,result_helper"
   ]
  },
  {
   "cell_type": "code",
   "execution_count": 6,
   "metadata": {},
   "outputs": [],
   "source": [
    "zero_shot_df=pd.read_csv('../data/train/zero_shot_1.csv')"
   ]
  },
  {
   "cell_type": "code",
   "execution_count": 7,
   "metadata": {},
   "outputs": [
    {
     "output_type": "stream",
     "name": "stdout",
     "text": [
      "游戏 77534 7753\n",
      "娱乐 148786 14878\n",
      "体育 71081 7108\n"
     ]
    }
   ],
   "source": [
    "word_counts_dict=dict()\n",
    "word_lists_dict=dict()\n",
    "top_k_split=0.1 # 前 k%\n",
    "\n",
    "for class_label in zero_shot_df['class_label'].unique():\n",
    "    word_counts_dict[class_label]=zero_shot_df[zero_shot_df['class_label']==class_label]['cutted_content'].sum()\n",
    "    word_counts_dict[class_label]=word_counts_dict[class_label].split(' ')\n",
    "    word_counts_dict[class_label]=[x for x in word_counts_dict[class_label] if len(x)>1 and not x.isdigit()]\n",
    "    word_counts_dict[class_label]=Counter(word_counts_dict[class_label])\n",
    "    word_counts_dict[class_label]=sorted(word_counts_dict[class_label].items(), key=lambda x: x[1], reverse=True)\n",
    "    len_words=len(word_counts_dict[class_label])\n",
    "    word_counts_dict[class_label]=word_counts_dict[class_label][:int(top_k_split*len_words)] # NOTE 取前 k% 个\n",
    "    \n",
    "    word_lists_dict[class_label]=[x[0] for x in word_counts_dict[class_label]]\n",
    "    print(class_label,len_words,len(word_lists_dict[class_label]))\n",
    "    # break\n"
   ]
  },
  {
   "cell_type": "code",
   "execution_count": 11,
   "metadata": {},
   "outputs": [
    {
     "output_type": "stream",
     "name": "stdout",
     "text": [
      "游戏\n{'通关', '礼包', '副本', '玩家', '普攻', '血量', '女妖', '玩法', '看吧', '敌方', '手游', '闪避', '金币', '大招', '攻略', '游戏', '加成', '兑换', '攻击力', '法师'}\n娱乐\n{'演技', '银幕', '传媒', '执导', '主创', '明星', '剧中', '影院', '片中', '导演', '票房', '出演', '播出', '剧本', '蜘蛛侠', '粉丝', '好莱坞', '该片', '预告片', '电视剧', '制片人', '影片', '上映', '主演', '喜剧', '领衔主演', '特辑', '饰演', '电影节', '影迷', '编剧', '剧组', '电影', '监制', '影业', '影视', '演员', '出品', '观影', '动画', '媒体', '该剧'}\n体育\n{'女排', '运动员', '奥运会', '体育', 'NBA', '发球', '锦标赛', '参赛', '队员', '小鸟', '男排', '奥运', '并列', '羽毛球', '标准杆'}\n"
     ]
    }
   ],
   "source": [
    "feature_word_sets_dict=dict()\n",
    "# 取 a-b (即差集)\n",
    "a_split=0.03\n",
    "b_split=1\n",
    "\n",
    "for class_label in zero_shot_df['class_label'].unique():\n",
    "    len_a=len(word_lists_dict[class_label])\n",
    "    feature_word_sets_dict[class_label]=set(word_lists_dict[class_label][:int(len_a*a_split)])\n",
    "    for class_label_2 in zero_shot_df['class_label'].unique():\n",
    "        if class_label!=class_label_2:\n",
    "            len_b=len(word_lists_dict[class_label_2])\n",
    "            feature_word_sets_dict[class_label]=feature_word_sets_dict[class_label]-set(word_lists_dict[class_label_2][:int(len_b*b_split)]) # 差集\n",
    "    print(class_label)\n",
    "    print(feature_word_sets_dict[class_label])\n",
    "       "
   ]
  },
  {
   "cell_type": "code",
   "execution_count": null,
   "metadata": {},
   "outputs": [],
   "source": []
  }
 ]
}