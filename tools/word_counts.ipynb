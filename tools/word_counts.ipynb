{
 "metadata": {
  "language_info": {
   "codemirror_mode": {
    "name": "ipython",
    "version": 3
   },
   "file_extension": ".py",
   "mimetype": "text/x-python",
   "name": "python",
   "nbconvert_exporter": "python",
   "pygments_lexer": "ipython3",
   "version": "3.8.5-final"
  },
  "orig_nbformat": 2,
  "kernelspec": {
   "name": "python3",
   "display_name": "Python 3"
  }
 },
 "nbformat": 4,
 "nbformat_minor": 2,
 "cells": [
  {
   "cell_type": "code",
   "execution_count": 1,
   "metadata": {},
   "outputs": [],
   "source": [
    "import sys \n",
    "sys.path.append(\"..\") \n",
    "from collections import Counter\n",
    "import json\n",
    "import pandas as pd\n",
    "\n",
    "from utils import data_helper,result_helper"
   ]
  },
  {
   "cell_type": "code",
   "execution_count": 2,
   "metadata": {},
   "outputs": [],
   "source": [
    "kb_flag=7\n",
    "\n",
    "ds3_path='../data/train/unlabeled_data_labeled_v1.csv'\n",
    "ds7_path='../data/train/labeled_data_processed.csv'\n",
    "\n",
    "kb3_save_path='../data/knowledgebase-3.json'\n",
    "kb7_save_path='../data/knowledgebase-7.json'\n",
    "\n",
    "if kb_flag==7:\n",
    "    ds_path=ds7_path\n",
    "    kb_save_path=kb7_save_path\n",
    "else:\n",
    "    ds_path=ds3_path\n",
    "    kb_save_path=kb3_save_path\n",
    "\n",
    "\n",
    "zero_shot_df=pd.read_csv(ds_path)"
   ]
  },
  {
   "cell_type": "code",
   "execution_count": 3,
   "metadata": {},
   "outputs": [
    {
     "output_type": "stream",
     "name": "stdout",
     "text": [
      "教育 43403 4340\n",
      "家居 40100 4010\n",
      "时尚 32802 3280\n",
      "时政 42269 4226\n",
      "科技 26276 2627\n",
      "房产 28334 2833\n",
      "财经 29541 2954\n"
     ]
    }
   ],
   "source": [
    "word_counts_dict=dict()\n",
    "word_lists_dict=dict()\n",
    "top_k_split=0.1 # 前 k%\n",
    "\n",
    "for class_label in zero_shot_df['class_label'].unique():\n",
    "    word_counts_dict[class_label]=zero_shot_df[zero_shot_df['class_label']==class_label]['cutted_content'].sum()\n",
    "    word_counts_dict[class_label]=word_counts_dict[class_label].split(' ')\n",
    "    word_counts_dict[class_label]=[x for x in word_counts_dict[class_label] if len(x)>1 and not x.isdigit()]\n",
    "    word_counts_dict[class_label]=Counter(word_counts_dict[class_label])\n",
    "    word_counts_dict[class_label]=sorted(word_counts_dict[class_label].items(), key=lambda x: x[1], reverse=True)\n",
    "    len_words=len(word_counts_dict[class_label])\n",
    "    word_counts_dict[class_label]=word_counts_dict[class_label][:int(top_k_split*len_words)] # NOTE 取前 k% 个\n",
    "    \n",
    "    word_lists_dict[class_label]=[x[0] for x in word_counts_dict[class_label]]\n",
    "    print(class_label,len_words,len(word_lists_dict[class_label]))\n",
    "    # break\n"
   ]
  },
  {
   "cell_type": "code",
   "execution_count": 4,
   "metadata": {},
   "outputs": [
    {
     "output_type": "stream",
     "name": "stdout",
     "text": [
      "教育\n{'光明日报', '思政', '中职', '祖国', '校企', '院校', '责编', '开学', '副校长', '数学', '思政课', '北京师范大学', '立德', '高职', '该校', '育人', '论文', '师生'}\n家居\n{'马桶', '网址', '照明', '智家', '软装', '门窗', '电器', '欧派', '厨电', '甲醛', '洗碗机', '涂料', '沙发', '床垫', '无醛', '慕思', '洗衣机', '整装', '全屋', '烹饪', '美凯龙', '智能家居', '红星'}\n时尚\n{'表款', '身材', '圆形', '水晶', '美白', '连衣裙', '春夏', '针织', '玫瑰', '高跟鞋', '表带', '腕表', '女装', '时装周', '时髦', '迷人', '机芯', '衬衫', '西装', '镂空', '精华', '制表', '18K', '礼服', 'T恤', '痘痘', '表壳', '皮革', '飞轮', '时计', '指针', '时尚界', '腰带', '时装秀', '铂金', 'Vogue', '宝石', 'VOGUE', '外套', '毛衣', '大衣', '牛仔裤', '男装', '计时', '一页', 'Gucci', '参考价格', '克拉', '女人', '上衣', '时尚网', '精钢', '短裤', '镶嵌', '印花', '红毯', '风衣', '性感', '项链', '切割', '超模', '防晒', '毛孔', '时装', '蓝宝石'}\n时政\n{'线索', '职务', '腐败', '审查', '李克强', '巡察', '中央纪委', '巡视组', '党内', '纪委', '违纪', '查处', '问责', '执法', '党员干部', '纪检监察', '从严治党', '举报', '监委'}\n科技\n{'像素', '骁龙', '处理器', '图源', '魅族', '摄像头', '卖家', '页面', 'NFC', '新机', '高通', '刷新率', '后置', '一加', '转化率', '该机', 'realme', '直通车', '宝贝'}\n房产\n{'立享', '拨号', '房源', '住户', '地块', '公园', '建筑面积', '在售', '园林', '泰禾', '华润', '大兴', '房山', '楼市', '竞房', '中海', '商圈', '景观', '新城', '洋房', '容积率', '西山', '置业', '总价', '绿地', '售楼处', '亦庄', '元平', '首开', '朝阳'}\n财经\n{'期货', '股价', '交易所', '元吨', '股市', '期权', '每股', '震荡', '避险', '汇率', '沙特', '大豆', '现货', '减产', '市值', '豆粕', '国债', '行情', '交割', '跌幅', '估值', '交易日', '债券', '新股', '合约', '个股', 'A股', '买入', '收益率', '原油', '市盈率', '美联储'}\n"
     ]
    }
   ],
   "source": [
    "feature_word_sets_dict=dict()\n",
    "# 取 a-b (即差集)\n",
    "a_split=0.08\n",
    "b_split=1\n",
    "\n",
    "for class_label in zero_shot_df['class_label'].unique():\n",
    "    len_a=len(word_lists_dict[class_label])\n",
    "    feature_word_sets_dict[class_label]=set(word_lists_dict[class_label][:int(len_a*a_split)])\n",
    "    for class_label_2 in zero_shot_df['class_label'].unique():\n",
    "        if class_label!=class_label_2:\n",
    "            len_b=len(word_lists_dict[class_label_2])\n",
    "            feature_word_sets_dict[class_label]=feature_word_sets_dict[class_label]-set(word_lists_dict[class_label_2][:int(len_b*b_split)]) # 差集\n",
    "    print(class_label)\n",
    "    print(feature_word_sets_dict[class_label])"
   ]
  },
  {
   "cell_type": "code",
   "execution_count": 5,
   "metadata": {},
   "outputs": [],
   "source": [
    "def set_default(obj):\n",
    "    if isinstance(obj, set):\n",
    "        return list(obj)\n",
    "    raise TypeError\n",
    "\n",
    "# with open(kb_save_path, 'w',encoding='utf-8') as f:\n",
    "#     f.write(json.dumps(feature_word_sets_dict,ensure_ascii=False, default=set_default)+'\\n\\n\\n')\n",
    "    "
   ]
  },
  {
   "cell_type": "code",
   "execution_count": null,
   "metadata": {},
   "outputs": [],
   "source": []
  }
 ]
}