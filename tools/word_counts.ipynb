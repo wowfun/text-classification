{
 "metadata": {
  "language_info": {
   "codemirror_mode": {
    "name": "ipython",
    "version": 3
   },
   "file_extension": ".py",
   "mimetype": "text/x-python",
   "name": "python",
   "nbconvert_exporter": "python",
   "pygments_lexer": "ipython3",
   "version": "3.8.5-final"
  },
  "orig_nbformat": 2,
  "kernelspec": {
   "name": "python3",
   "display_name": "Python 3"
  }
 },
 "nbformat": 4,
 "nbformat_minor": 2,
 "cells": [
  {
   "cell_type": "code",
   "execution_count": 1,
   "metadata": {},
   "outputs": [],
   "source": [
    "import sys \n",
    "sys.path.append(\"..\") \n",
    "from collections import Counter\n",
    "import pandas as pd\n",
    "\n",
    "\n",
    "from utils import data_helper,result_helper"
   ]
  },
  {
   "cell_type": "code",
   "execution_count": 2,
   "metadata": {},
   "outputs": [],
   "source": [
    "zero_shot_df=pd.read_csv('../data/train/unlabeled_data_labeled_v1.csv')"
   ]
  },
  {
   "cell_type": "code",
   "execution_count": 3,
   "metadata": {},
   "outputs": [
    {
     "output_type": "stream",
     "name": "stdout",
     "text": [
      "游戏 52364 5236\n",
      "娱乐 104113 10411\n",
      "体育 37878 3787\n"
     ]
    }
   ],
   "source": [
    "word_counts_dict=dict()\n",
    "word_lists_dict=dict()\n",
    "top_k_split=0.1 # 前 k%\n",
    "\n",
    "for class_label in zero_shot_df['class_label'].unique():\n",
    "    word_counts_dict[class_label]=zero_shot_df[zero_shot_df['class_label']==class_label]['cutted_content'].sum()\n",
    "    word_counts_dict[class_label]=word_counts_dict[class_label].split(' ')\n",
    "    word_counts_dict[class_label]=[x for x in word_counts_dict[class_label] if len(x)>1 and not x.isdigit()]\n",
    "    word_counts_dict[class_label]=Counter(word_counts_dict[class_label])\n",
    "    word_counts_dict[class_label]=sorted(word_counts_dict[class_label].items(), key=lambda x: x[1], reverse=True)\n",
    "    len_words=len(word_counts_dict[class_label])\n",
    "    word_counts_dict[class_label]=word_counts_dict[class_label][:int(top_k_split*len_words)] # NOTE 取前 k% 个\n",
    "    \n",
    "    word_lists_dict[class_label]=[x[0] for x in word_counts_dict[class_label]]\n",
    "    print(class_label,len_words,len(word_lists_dict[class_label]))\n",
    "    # break\n"
   ]
  },
  {
   "cell_type": "code",
   "execution_count": 4,
   "metadata": {},
   "outputs": [
    {
     "output_type": "stream",
     "name": "stdout",
     "text": [
      "游戏\n{'兑换', '游戏', '攻略', '普攻', '礼包', '玩法', '金币', '敌方', '加成', '对面', '领取', '随机', '碎片', '副本', '攻击力', '玩家', '防御', '法师', '闪避', '前排', '女妖', '手游', '通关', '看吧', '血量', '大招', '概率'}\n娱乐\n{'口碑', '特辑', '讲述', '上映', '粉丝', '股份', '监制', '爱情', '感动', '幕后', '导演', '电影节', '票房', '出演', '终结者', '该剧', '剧组', '动画电影', '二人', '电视剧', '动画', '本片', '该片', '剧中', '好莱坞', '预告片', '银幕', '漫威', '影片', '宣传', '电影', '影业', '主演', '领衔主演', '蜘蛛侠', '媒体', '香港', '女孩', '传媒', '诠释', '情感', '制片人', '一部', '明星', '大片', '创作', '卫视', '内地', '这部', '片中', '演员', '执导', '影视', '主创', '播出', '喜剧', '编剧', '观影', '饰演', '影院', '影迷', '院线', '演技', '出品', '剧本'}\n体育\n{'锦标赛', '男排', '球队', '标准杆', '高尔夫', '奥运会', '比分', '参赛', '发球', '孙颖莎', '奥运', '大满贯', '体育', '夺冠', '女排', '运动员', '马术', '并列', '公开赛', '小鸟', '羽毛球', '击球', '队员'}\n"
     ]
    }
   ],
   "source": [
    "feature_word_sets_dict=dict()\n",
    "# 取 a-b (即差集)\n",
    "a_split=0.03\n",
    "b_split=1\n",
    "\n",
    "for class_label in zero_shot_df['class_label'].unique():\n",
    "    len_a=len(word_lists_dict[class_label])\n",
    "    feature_word_sets_dict[class_label]=set(word_lists_dict[class_label][:int(len_a*a_split)])\n",
    "    for class_label_2 in zero_shot_df['class_label'].unique():\n",
    "        if class_label!=class_label_2:\n",
    "            len_b=len(word_lists_dict[class_label_2])\n",
    "            feature_word_sets_dict[class_label]=feature_word_sets_dict[class_label]-set(word_lists_dict[class_label_2][:int(len_b*b_split)]) # 差集\n",
    "    print(class_label)\n",
    "    print(feature_word_sets_dict[class_label])\n",
    "       "
   ]
  },
  {
   "cell_type": "code",
   "execution_count": null,
   "metadata": {},
   "outputs": [],
   "source": []
  }
 ]
}