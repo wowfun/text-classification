{
 "metadata": {
  "language_info": {
   "codemirror_mode": {
    "name": "ipython",
    "version": 3
   },
   "file_extension": ".py",
   "mimetype": "text/x-python",
   "name": "python",
   "nbconvert_exporter": "python",
   "pygments_lexer": "ipython3",
   "version": "3.8.5-final"
  },
  "orig_nbformat": 2,
  "kernelspec": {
   "name": "python3",
   "display_name": "Python 3.8.5 64-bit ('tfn': conda)",
   "metadata": {
    "interpreter": {
     "hash": "cb0a7f5e682796f5c967770f1634aadd0c7e9a7fac4e07aebb6c721f3c61cba0"
    }
   }
  }
 },
 "nbformat": 4,
 "nbformat_minor": 2,
 "cells": [
  {
   "cell_type": "code",
   "execution_count": 1,
   "metadata": {},
   "outputs": [],
   "source": [
    "import sys \n",
    "sys.path.append(\"..\") \n",
    "import pickle\n",
    "\n",
    "import numpy as np\n",
    "import pandas as pd\n",
    "import matplotlib.pyplot as plt\n",
    "\n",
    "from utils import data_helper,result_helper\n",
    "from models import lstm_model"
   ]
  },
  {
   "cell_type": "code",
   "execution_count": 2,
   "metadata": {},
   "outputs": [
    {
     "output_type": "stream",
     "name": "stdout",
     "text": [
      "时尚    2337\n财经    1939\n房产    1914\n科技    1220\n家居     829\n时政     738\n教育     432\nName: class_label, dtype: int64\n教育    1753\n家居     452\n时政     429\nName: class_label, dtype: int64\n娱乐    4207\n游戏    3061\n体育    1070\nName: class_label, dtype: int64\n"
     ]
    }
   ],
   "source": [
    "# 读取关键词命中结果数据\n",
    "\n",
    "train_ds7='../data/train/unlabeled_data_labeled7_v1.csv'\n",
    "train_ds7_plus='../data/train/unlabeled_data_labeled7_plus.csv'\n",
    "train_ds3='../data/train/unlabeled_data_labeled3_v1.csv'\n",
    "\n",
    "train_df7=pd.read_csv(train_ds7)\n",
    "train_df7_plus=pd.read_csv(train_ds7_plus)\n",
    "train_df3=pd.read_csv(train_ds3)\n",
    "\n",
    "print(train_df7['class_label'].value_counts())\n",
    "print(train_df7_plus['class_label'].value_counts())\n",
    "print(train_df3['class_label'].value_counts())"
   ]
  },
  {
   "cell_type": "code",
   "execution_count": 3,
   "metadata": {},
   "outputs": [],
   "source": [
    "# 读取已标注数据\n",
    "train_ds1='../data/train/labeled_data_processed.csv'\n",
    "train_df1=pd.read_csv(train_ds1)"
   ]
  },
  {
   "cell_type": "code",
   "execution_count": 4,
   "metadata": {},
   "outputs": [
    {
     "output_type": "execute_result",
     "data": {
      "text/plain": [
       "{'家居': 0,\n",
       " '房产': 1,\n",
       " '教育': 2,\n",
       " '时尚': 3,\n",
       " '时政': 4,\n",
       " '科技': 5,\n",
       " '财经': 6,\n",
       " '游戏': 7,\n",
       " '娱乐': 8,\n",
       " '体育': 9}"
      ]
     },
     "metadata": {},
     "execution_count": 4
    }
   ],
   "source": [
    "class_label_to_class_dict = {\n",
    "            0: '家居', 1: '房产', 2: '教育', 3: '时尚', 4: '时政', 5: '科技', 6: '财经', 7: '游戏', 8: '娱乐', 9: '体育'}\n",
    "\n",
    "class_to_class_label_dict={val:key for key,val in class_label_to_class_dict.items()}\n",
    "class_to_class_label_dict"
   ]
  },
  {
   "cell_type": "code",
   "execution_count": 5,
   "metadata": {},
   "outputs": [
    {
     "output_type": "stream",
     "name": "stdout",
     "text": [
      "娱乐    4207\n",
      "时尚    3337\n",
      "教育    3185\n",
      "游戏    3061\n",
      "财经    2939\n",
      "房产    2914\n",
      "家居    2281\n",
      "科技    2220\n",
      "时政    2167\n",
      "体育    1070\n",
      "Name: class_label, dtype: int64\n",
      "娱乐    3610\n",
      "时尚    3336\n",
      "游戏    2940\n",
      "财经    2925\n",
      "房产    2910\n",
      "教育    2853\n",
      "科技    2220\n",
      "家居    1888\n",
      "时政    1800\n",
      "体育     993\n",
      "Name: class_label, dtype: int64\n"
     ]
    }
   ],
   "source": [
    "# 合并关键词命中数据\n",
    "train_df2=train_df7[['content','cutted_content','class_label','by_words']].append(train_df7_plus[['content','cutted_content','class_label','by_words']])\n",
    "train_df2=train_df2.append(train_df3[['content','cutted_content','class_label','by_words']])\n",
    "\n",
    "# 添加标签列\n",
    "train_df2['label']=train_df2['class_label'].apply(lambda x:class_to_class_label_dict[x])\n",
    "\n",
    "# 合并已标注数据和关键词命中数据\n",
    "train_df=train_df1[['content','cutted_content','class_label','label']].append(train_df2)\n",
    "print(train_df['class_label'].value_counts())\n",
    "train_df=train_df.drop_duplicates(subset=['content']) # 去除重复的content\n",
    "print(train_df['class_label'].value_counts())\n"
   ]
  },
  {
   "cell_type": "code",
   "execution_count": 6,
   "metadata": {},
   "outputs": [],
   "source": [
    "save_k=int(np.mean(train_df['class_label'].value_counts()))\n",
    "\n",
    "# 后三类每个保留最多k条数据\n",
    "train_df_sub=pd.DataFrame()\n",
    "for label in train_df['label'].unique():\n",
    "    train_df_sub=train_df_sub.append(train_df[train_df['label']==label].iloc[:save_k])\n",
    "train_df_sub"
   ]
  },
  {
   "cell_type": "code",
   "execution_count": 7,
   "metadata": {},
   "outputs": [
    {
     "output_type": "execute_result",
     "data": {
      "text/plain": [
       "                                                 content  \\\n",
       "0      群侠传中对于侠客们来说最重要的一个就是这个天赋上的选择了，带有正确天赋的侠客对于玩家们来说可...   \n",
       "1      NCAA主席马克·埃默特(MarkEmmert)和董事会周四在一份声明中表示，NCAA正式取...   \n",
       "2      合景领汇长安是西长安街上双地铁纯商品房住区，合景领汇长安在哪里?项目位于门头沟新城繁华地段。...   \n",
       "3      据周五(11月8日)FX168每周金融市场调查显示，在WTI原油期货本周温和上升后，分析师和...   \n",
       "4      北京时间9月2日，弗兰西斯科-莫里纳利(FrancescoMolinari)已经放弃了年度第...   \n",
       "...                                                  ...   \n",
       "25470  中新网客户端8月27日电(郎朗)27日，教育部召开新闻发布会。会上介绍，今年秋季学期处于常态...   \n",
       "25471  尼尔森25日发布报告指出，近段时间以来中国零售业持续复苏，呈现出“U”型走势。据悉，中国是全...   \n",
       "25472  由武汉玛雅动漫、鑫岳影视联合出品，上海鑫岳独家宣发，曾宪林自编自导的国内首部“趣”科幻、“软...   \n",
       "25473  公开招标竞价优选精准采购　　杭州余杭区用大数据守护学生盘中餐　　本报讯（记者蒋亦丰通讯员武怡...   \n",
       "25474  作者：韩国海（沈阳师范大学副校长、《中小学教学研究》主编）　　长期以来，教研被认为是中小学学...   \n",
       "\n",
       "                                          cutted_content class_label  label  \\\n",
       "0      群侠传 中 侠客 来说 最 一个 天赋 上 选择 带有 正确 天赋 侠客 玩家 来说 说 强...          游戏      7   \n",
       "1      NCAA 主席 马克 埃默特 MarkEmmert 董事会 周四 一份 声明 中 NCAA ...          体育      9   \n",
       "2      合景 领汇 长安 西长安街 上 双 地铁 纯 商品房 住区 合景 领汇 长安 项目 位于 门...          房产      1   \n",
       "3      周五 11 月 8 日 FX168 每周 金融市场 调查 显示 WTI 原油期货 本周 温和...          财经      6   \n",
       "4      北京 时间 9 月 2 日 弗兰西斯 科莫 里纳 利 FrancescoMolinari 放...          体育      9   \n",
       "...                                                  ...         ...    ...   \n",
       "25470  中新网 客户端 8 月 27 日电 郎朗 27 日 教育部 新闻 发布会 会上 介绍 秋季 ...          教育      2   \n",
       "25471  尼尔森 25 日 发布 报告 指出 近 段时间 中国 零售业 持续 复苏 呈现出 U 型 走...          家居      0   \n",
       "25472  武汉 玛雅 动漫 鑫岳 影视 联合 出品 上海 鑫岳 独家 宣发 曾宪林 自编 自导 国内 ...          娱乐      8   \n",
       "25473  公开招标 竞价 优选 精准 采购 杭州 余杭区 用大 数据 守护 学生 盘中餐 本报讯 记者...          教育      2   \n",
       "25474  作者 韩国 海 沈阳 师范大学 副校长 中小学 教学研究 主编 长期以来 教研 中小学 学科...          教育      2   \n",
       "\n",
       "      by_words  \n",
       "0        礼包 副本  \n",
       "1      NBA 锦标赛  \n",
       "2      公园 建筑面积  \n",
       "3          NaN  \n",
       "4      奥运会 锦标赛  \n",
       "...        ...  \n",
       "25470      NaN  \n",
       "25471    全屋 家居  \n",
       "25472    传媒 影片  \n",
       "25473      NaN  \n",
       "25474      NaN  \n",
       "\n",
       "[25475 rows x 5 columns]"
      ],
      "text/html": "<div>\n<style scoped>\n    .dataframe tbody tr th:only-of-type {\n        vertical-align: middle;\n    }\n\n    .dataframe tbody tr th {\n        vertical-align: top;\n    }\n\n    .dataframe thead th {\n        text-align: right;\n    }\n</style>\n<table border=\"1\" class=\"dataframe\">\n  <thead>\n    <tr style=\"text-align: right;\">\n      <th></th>\n      <th>content</th>\n      <th>cutted_content</th>\n      <th>class_label</th>\n      <th>label</th>\n      <th>by_words</th>\n    </tr>\n  </thead>\n  <tbody>\n    <tr>\n      <th>0</th>\n      <td>群侠传中对于侠客们来说最重要的一个就是这个天赋上的选择了，带有正确天赋的侠客对于玩家们来说可...</td>\n      <td>群侠传 中 侠客 来说 最 一个 天赋 上 选择 带有 正确 天赋 侠客 玩家 来说 说 强...</td>\n      <td>游戏</td>\n      <td>7</td>\n      <td>礼包 副本</td>\n    </tr>\n    <tr>\n      <th>1</th>\n      <td>NCAA主席马克·埃默特(MarkEmmert)和董事会周四在一份声明中表示，NCAA正式取...</td>\n      <td>NCAA 主席 马克 埃默特 MarkEmmert 董事会 周四 一份 声明 中 NCAA ...</td>\n      <td>体育</td>\n      <td>9</td>\n      <td>NBA 锦标赛</td>\n    </tr>\n    <tr>\n      <th>2</th>\n      <td>合景领汇长安是西长安街上双地铁纯商品房住区，合景领汇长安在哪里?项目位于门头沟新城繁华地段。...</td>\n      <td>合景 领汇 长安 西长安街 上 双 地铁 纯 商品房 住区 合景 领汇 长安 项目 位于 门...</td>\n      <td>房产</td>\n      <td>1</td>\n      <td>公园 建筑面积</td>\n    </tr>\n    <tr>\n      <th>3</th>\n      <td>据周五(11月8日)FX168每周金融市场调查显示，在WTI原油期货本周温和上升后，分析师和...</td>\n      <td>周五 11 月 8 日 FX168 每周 金融市场 调查 显示 WTI 原油期货 本周 温和...</td>\n      <td>财经</td>\n      <td>6</td>\n      <td>NaN</td>\n    </tr>\n    <tr>\n      <th>4</th>\n      <td>北京时间9月2日，弗兰西斯科-莫里纳利(FrancescoMolinari)已经放弃了年度第...</td>\n      <td>北京 时间 9 月 2 日 弗兰西斯 科莫 里纳 利 FrancescoMolinari 放...</td>\n      <td>体育</td>\n      <td>9</td>\n      <td>奥运会 锦标赛</td>\n    </tr>\n    <tr>\n      <th>...</th>\n      <td>...</td>\n      <td>...</td>\n      <td>...</td>\n      <td>...</td>\n      <td>...</td>\n    </tr>\n    <tr>\n      <th>25470</th>\n      <td>中新网客户端8月27日电(郎朗)27日，教育部召开新闻发布会。会上介绍，今年秋季学期处于常态...</td>\n      <td>中新网 客户端 8 月 27 日电 郎朗 27 日 教育部 新闻 发布会 会上 介绍 秋季 ...</td>\n      <td>教育</td>\n      <td>2</td>\n      <td>NaN</td>\n    </tr>\n    <tr>\n      <th>25471</th>\n      <td>尼尔森25日发布报告指出，近段时间以来中国零售业持续复苏，呈现出“U”型走势。据悉，中国是全...</td>\n      <td>尼尔森 25 日 发布 报告 指出 近 段时间 中国 零售业 持续 复苏 呈现出 U 型 走...</td>\n      <td>家居</td>\n      <td>0</td>\n      <td>全屋 家居</td>\n    </tr>\n    <tr>\n      <th>25472</th>\n      <td>由武汉玛雅动漫、鑫岳影视联合出品，上海鑫岳独家宣发，曾宪林自编自导的国内首部“趣”科幻、“软...</td>\n      <td>武汉 玛雅 动漫 鑫岳 影视 联合 出品 上海 鑫岳 独家 宣发 曾宪林 自编 自导 国内 ...</td>\n      <td>娱乐</td>\n      <td>8</td>\n      <td>传媒 影片</td>\n    </tr>\n    <tr>\n      <th>25473</th>\n      <td>公开招标竞价优选精准采购　　杭州余杭区用大数据守护学生盘中餐　　本报讯（记者蒋亦丰通讯员武怡...</td>\n      <td>公开招标 竞价 优选 精准 采购 杭州 余杭区 用大 数据 守护 学生 盘中餐 本报讯 记者...</td>\n      <td>教育</td>\n      <td>2</td>\n      <td>NaN</td>\n    </tr>\n    <tr>\n      <th>25474</th>\n      <td>作者：韩国海（沈阳师范大学副校长、《中小学教学研究》主编）　　长期以来，教研被认为是中小学学...</td>\n      <td>作者 韩国 海 沈阳 师范大学 副校长 中小学 教学研究 主编 长期以来 教研 中小学 学科...</td>\n      <td>教育</td>\n      <td>2</td>\n      <td>NaN</td>\n    </tr>\n  </tbody>\n</table>\n<p>25475 rows × 5 columns</p>\n</div>"
     },
     "metadata": {},
     "execution_count": 7
    }
   ],
   "source": [
    "# 打乱数据\n",
    "train_df=train_df.sample(frac=1).reset_index(drop=True)\n",
    "train_df"
   ]
  },
  {
   "cell_type": "code",
   "execution_count": 8,
   "metadata": {},
   "outputs": [],
   "source": [
    "train_df.to_csv('../data/train/train_processed_v2.csv',index=False)"
   ]
  },
  {
   "cell_type": "code",
   "execution_count": null,
   "metadata": {},
   "outputs": [],
   "source": []
  }
 ]
}