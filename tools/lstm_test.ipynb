{
 "cells": [
  {
   "cell_type": "code",
   "execution_count": 1,
   "metadata": {},
   "outputs": [],
   "source": [
    "import pandas as pd\n",
    "import tensorflow as tf\n",
    "\n",
    "from sklearn.model_selection import train_test_split"
   ]
  },
  {
   "cell_type": "code",
   "execution_count": 2,
   "metadata": {},
   "outputs": [],
   "source": [
    "from tensorflow.keras.models import load_model\n",
    "model=load_model('lstm.h5')"
   ]
  },
  {
   "cell_type": "code",
   "execution_count": 3,
   "metadata": {},
   "outputs": [
    {
     "output_type": "execute_result",
     "data": {
      "text/plain": "                                                 content\n0      银华旗下两基金开通转换 银华基金日前发布公告，自3月12日起开通银华领先策略、银华增强收益与...\n1      深圳楼市现拐点价涨量跌 购房者对房价敏感 据中央电视台“朝闻天下”栏目消息，深圳楼市在今年上...\n2      今年以来封基净值平均增长12.46% 本报讯 与开放式基金一样，今年以来封基的表现也很抢眼。...\n3      现场：斯科拉扭伤离场检查 洛瑞迟到三分杯水车薪新浪体育讯北京时间2月28日消息，火箭背靠背客...\n4      120G硬盘高清DV 索尼XR500E单机8650元    作者：李金昊    [北京行情]...\n...                                                  ...\n19995  张世礼：社会要尊重设计师劳动 不搞恶性竞争新浪家居杨轶讯 2010年1月22日，新浪乐居•里...\n19996  搞定Icon的万能尖货Gwen Stefani “娘”了 没救了Gwen Stefani做了...\n19997  专家称开发商炮制故事助推去年房价本报北京1月6日电(记者李松涛)在某论坛上，国家信息中心专家...\n19998  吴尊韩庚培养默契 被高晓松关在房里对视聊天成都商报(微博)讯(记者 张世豪 实习生 李潇 摄...\n19999  根据市场节奏变化选择基金组合在基金组合投资方面，建议投资者继续保持谨慎为主，适度灵活的投资思...\n\n[20000 rows x 1 columns]",
      "text/html": "<div>\n<style scoped>\n    .dataframe tbody tr th:only-of-type {\n        vertical-align: middle;\n    }\n\n    .dataframe tbody tr th {\n        vertical-align: top;\n    }\n\n    .dataframe thead th {\n        text-align: right;\n    }\n</style>\n<table border=\"1\" class=\"dataframe\">\n  <thead>\n    <tr style=\"text-align: right;\">\n      <th></th>\n      <th>content</th>\n    </tr>\n  </thead>\n  <tbody>\n    <tr>\n      <th>0</th>\n      <td>银华旗下两基金开通转换 银华基金日前发布公告，自3月12日起开通银华领先策略、银华增强收益与...</td>\n    </tr>\n    <tr>\n      <th>1</th>\n      <td>深圳楼市现拐点价涨量跌 购房者对房价敏感 据中央电视台“朝闻天下”栏目消息，深圳楼市在今年上...</td>\n    </tr>\n    <tr>\n      <th>2</th>\n      <td>今年以来封基净值平均增长12.46% 本报讯 与开放式基金一样，今年以来封基的表现也很抢眼。...</td>\n    </tr>\n    <tr>\n      <th>3</th>\n      <td>现场：斯科拉扭伤离场检查 洛瑞迟到三分杯水车薪新浪体育讯北京时间2月28日消息，火箭背靠背客...</td>\n    </tr>\n    <tr>\n      <th>4</th>\n      <td>120G硬盘高清DV 索尼XR500E单机8650元    作者：李金昊    [北京行情]...</td>\n    </tr>\n    <tr>\n      <th>...</th>\n      <td>...</td>\n    </tr>\n    <tr>\n      <th>19995</th>\n      <td>张世礼：社会要尊重设计师劳动 不搞恶性竞争新浪家居杨轶讯 2010年1月22日，新浪乐居•里...</td>\n    </tr>\n    <tr>\n      <th>19996</th>\n      <td>搞定Icon的万能尖货Gwen Stefani “娘”了 没救了Gwen Stefani做了...</td>\n    </tr>\n    <tr>\n      <th>19997</th>\n      <td>专家称开发商炮制故事助推去年房价本报北京1月6日电(记者李松涛)在某论坛上，国家信息中心专家...</td>\n    </tr>\n    <tr>\n      <th>19998</th>\n      <td>吴尊韩庚培养默契 被高晓松关在房里对视聊天成都商报(微博)讯(记者 张世豪 实习生 李潇 摄...</td>\n    </tr>\n    <tr>\n      <th>19999</th>\n      <td>根据市场节奏变化选择基金组合在基金组合投资方面，建议投资者继续保持谨慎为主，适度灵活的投资思...</td>\n    </tr>\n  </tbody>\n</table>\n<p>20000 rows × 1 columns</p>\n</div>"
     },
     "metadata": {},
     "execution_count": 3
    }
   ],
   "source": [
    "test_ds='../data/test_data.csv'\n",
    "test_df=pd.read_csv(test_ds)[['content']]\n",
    "test_df"
   ]
  },
  {
   "cell_type": "code",
   "execution_count": 4,
   "metadata": {
    "tags": []
   },
   "outputs": [
    {
     "output_type": "stream",
     "name": "stdout",
     "text": "0.0\n"
    },
    {
     "output_type": "execute_result",
     "data": {
      "text/plain": "(20000, 1)"
     },
     "metadata": {},
     "execution_count": 4
    }
   ],
   "source": [
    "## 大于4k 长度的比例\n",
    "#print(len(test_df[test_df['content'].str.len()>4000]['content'])/len(test_df))\n",
    "## 截断到 4k\n",
    "idxs=test_df.loc[test_df['content'].str.len()>4000].index\n",
    "#print(test_df.loc[test_df['content'].str.len()>4000].index)\n",
    "test_df.loc[test_df['content'].str.len()>4000,'content']=test_df.loc[test_df['content'].str.len()>4000,'content'].apply(lambda x:x[:4000].rsplit('。',1)[0])\n",
    "print(len(test_df[test_df['content'].str.len()>4000]['content'])/len(test_df))\n",
    "test_df.sample(10)\n",
    "test_df.shape"
   ]
  },
  {
   "cell_type": "code",
   "execution_count": 5,
   "metadata": {},
   "outputs": [],
   "source": [
    "import re\n",
    "#训练集文本预处理\n",
    "## 文本处理\n",
    "### 函数：删除除字母,数字，汉字以外的所有符号\n",
    "def remove_punctuation(line):\n",
    "    line = str(line)\n",
    "    if line.strip()=='':\n",
    "        return ''\n",
    "    rule = re.compile(u\"[^a-zA-Z0-9\\u4E00-\\u9FA5]\")\n",
    "    line = rule.sub('',line)\n",
    "    return line\n",
    "\n",
    "### 函数：获取停用词\n",
    "def get_stopwords_list(filepath):  \n",
    "    stopwords = [line.strip() for line in open(filepath, 'r', encoding='utf-8').readlines()]  \n",
    "    return stopwords "
   ]
  },
  {
   "cell_type": "code",
   "execution_count": 6,
   "metadata": {},
   "outputs": [
    {
     "output_type": "execute_result",
     "data": {
      "text/plain": "                                                 content  \\\n17646  业余爱好做家具 大学老师当木匠自制家具抢手刘松果本来是重庆一所大学的美术老师，业余爱好做家具...   \n14213  组图：学日本女模穿内衣迷死男人导语：男人总是对女优趋之若鹜，如果你总是担心自己的抱歉身材吸引...   \n1513   阿帅再三强调防守带来自信 最后11场不容任何闪失新浪体育讯北京时间3月23日(休斯敦当地时间...   \n5512   信达澳银领先增长调整基金经理 增聘王战强全景网12月25日讯 信达澳银基金今日公告，旗下信达...   \n5820   宁浩《无人区》定妆照曝光 黄渤被剃光头(组图)新浪娱乐讯 由中国电影集团公司投资，宁浩执导的...   \n8706   租金回本需83年 北京部分房源丧失投资价值业内人士认为宽松货币政策经济向好等因素决定房价不可...   \n17961  澳高校将参考申请人诚信记录严批留学签证中新网10月18日电 据澳大利亚新快网报道，澳洲大学将...   \n15026  《武侠》戛纳首映反映好 王羽惠英红携手亮相新浪娱乐讯 北京时间5月15日消息，据香港东方日报...   \n4565   微博联播：于正揭秘电影《宫》 唐一菲恋八阿哥点击进入-于正微博客新浪娱乐讯  3月23日上午...   \n3510   警惕投机拉高地价 虚假地王背后楼市红灯闪烁记者从湖南省建设厅了解到，1至6月，湖南省商品房竣...   \n\n                                         cleaned_content  \n17646  业余爱好做家具大学老师当木匠自制家具抢手刘松果本来是重庆一所大学的美术老师业余爱好做家具不过...  \n14213  组图学日本女模穿内衣迷死男人导语男人总是对女优趋之若鹜如果你总是担心自己的抱歉身材吸引不了他...  \n1513   阿帅再三强调防守带来自信最后11场不容任何闪失新浪体育讯北京时间3月23日休斯敦当地时间3月...  \n5512   信达澳银领先增长调整基金经理增聘王战强全景网12月25日讯信达澳银基金今日公告旗下信达澳银领...  \n5820   宁浩无人区定妆照曝光黄渤被剃光头组图新浪娱乐讯由中国电影集团公司投资宁浩执导的电影无人区已经...  \n8706   租金回本需83年北京部分房源丧失投资价值业内人士认为宽松货币政策经济向好等因素决定房价不可能...  \n17961  澳高校将参考申请人诚信记录严批留学签证中新网10月18日电据澳大利亚新快网报道澳洲大学将史无...  \n15026  武侠戛纳首映反映好王羽惠英红携手亮相新浪娱乐讯北京时间5月15日消息据香港东方日报报道武侠首...  \n4565   微博联播于正揭秘电影宫唐一菲恋八阿哥点击进入于正微博客新浪娱乐讯3月23日上午1057电视剧...  \n3510   警惕投机拉高地价虚假地王背后楼市红灯闪烁记者从湖南省建设厅了解到1至6月湖南省商品房竣工面积...  ",
      "text/html": "<div>\n<style scoped>\n    .dataframe tbody tr th:only-of-type {\n        vertical-align: middle;\n    }\n\n    .dataframe tbody tr th {\n        vertical-align: top;\n    }\n\n    .dataframe thead th {\n        text-align: right;\n    }\n</style>\n<table border=\"1\" class=\"dataframe\">\n  <thead>\n    <tr style=\"text-align: right;\">\n      <th></th>\n      <th>content</th>\n      <th>cleaned_content</th>\n    </tr>\n  </thead>\n  <tbody>\n    <tr>\n      <th>17646</th>\n      <td>业余爱好做家具 大学老师当木匠自制家具抢手刘松果本来是重庆一所大学的美术老师，业余爱好做家具...</td>\n      <td>业余爱好做家具大学老师当木匠自制家具抢手刘松果本来是重庆一所大学的美术老师业余爱好做家具不过...</td>\n    </tr>\n    <tr>\n      <th>14213</th>\n      <td>组图：学日本女模穿内衣迷死男人导语：男人总是对女优趋之若鹜，如果你总是担心自己的抱歉身材吸引...</td>\n      <td>组图学日本女模穿内衣迷死男人导语男人总是对女优趋之若鹜如果你总是担心自己的抱歉身材吸引不了他...</td>\n    </tr>\n    <tr>\n      <th>1513</th>\n      <td>阿帅再三强调防守带来自信 最后11场不容任何闪失新浪体育讯北京时间3月23日(休斯敦当地时间...</td>\n      <td>阿帅再三强调防守带来自信最后11场不容任何闪失新浪体育讯北京时间3月23日休斯敦当地时间3月...</td>\n    </tr>\n    <tr>\n      <th>5512</th>\n      <td>信达澳银领先增长调整基金经理 增聘王战强全景网12月25日讯 信达澳银基金今日公告，旗下信达...</td>\n      <td>信达澳银领先增长调整基金经理增聘王战强全景网12月25日讯信达澳银基金今日公告旗下信达澳银领...</td>\n    </tr>\n    <tr>\n      <th>5820</th>\n      <td>宁浩《无人区》定妆照曝光 黄渤被剃光头(组图)新浪娱乐讯 由中国电影集团公司投资，宁浩执导的...</td>\n      <td>宁浩无人区定妆照曝光黄渤被剃光头组图新浪娱乐讯由中国电影集团公司投资宁浩执导的电影无人区已经...</td>\n    </tr>\n    <tr>\n      <th>8706</th>\n      <td>租金回本需83年 北京部分房源丧失投资价值业内人士认为宽松货币政策经济向好等因素决定房价不可...</td>\n      <td>租金回本需83年北京部分房源丧失投资价值业内人士认为宽松货币政策经济向好等因素决定房价不可能...</td>\n    </tr>\n    <tr>\n      <th>17961</th>\n      <td>澳高校将参考申请人诚信记录严批留学签证中新网10月18日电 据澳大利亚新快网报道，澳洲大学将...</td>\n      <td>澳高校将参考申请人诚信记录严批留学签证中新网10月18日电据澳大利亚新快网报道澳洲大学将史无...</td>\n    </tr>\n    <tr>\n      <th>15026</th>\n      <td>《武侠》戛纳首映反映好 王羽惠英红携手亮相新浪娱乐讯 北京时间5月15日消息，据香港东方日报...</td>\n      <td>武侠戛纳首映反映好王羽惠英红携手亮相新浪娱乐讯北京时间5月15日消息据香港东方日报报道武侠首...</td>\n    </tr>\n    <tr>\n      <th>4565</th>\n      <td>微博联播：于正揭秘电影《宫》 唐一菲恋八阿哥点击进入-于正微博客新浪娱乐讯  3月23日上午...</td>\n      <td>微博联播于正揭秘电影宫唐一菲恋八阿哥点击进入于正微博客新浪娱乐讯3月23日上午1057电视剧...</td>\n    </tr>\n    <tr>\n      <th>3510</th>\n      <td>警惕投机拉高地价 虚假地王背后楼市红灯闪烁记者从湖南省建设厅了解到，1至6月，湖南省商品房竣...</td>\n      <td>警惕投机拉高地价虚假地王背后楼市红灯闪烁记者从湖南省建设厅了解到1至6月湖南省商品房竣工面积...</td>\n    </tr>\n  </tbody>\n</table>\n</div>"
     },
     "metadata": {},
     "execution_count": 6
    }
   ],
   "source": [
    "#删除除字母,数字，汉字以外的所有符号删除除字母,数字，汉字以外的所有符号\n",
    "test_df['cleaned_content']=test_df['content'].apply(remove_punctuation)\n",
    "test_df.sample(10)"
   ]
  },
  {
   "cell_type": "code",
   "execution_count": 7,
   "metadata": {
    "tags": []
   },
   "outputs": [
    {
     "output_type": "stream",
     "name": "stderr",
     "text": "Building prefix dict from the default dictionary ...\nLoading model from cache /var/folders/3n/5ywx4mgd3pz_9d58sjqmrxdm0000gn/T/jieba.cache\nLoading model cost 0.710 seconds.\nPrefix dict has been built successfully.\n"
    },
    {
     "output_type": "execute_result",
     "data": {
      "text/plain": "                                                 content  \\\n12781  组图：驻阿富汗英军“防弹内裤” 武装到命根子导语：信息时报综合报道 防弹内裤的点子或许引人发...   \n10934  《文明online》冲锋夺奖结果公布史诗式即时战斗手机网游《文明online》复活转生冲级活...   \n19079  《掌魔》好友PK 赢话费大奖一个人玩游戏太没劲？来掌魔“好友挑战”发起挑战赛，邀请朋友们一块...   \n655    12X光变防抖长焦 富士S1500带票仅1440    作者：陈亮    相机背面是一个2....   \n6291   陈水扁父子本周将在法庭上对质中新网7月6日电 据台湾《中国时报》报道，台北地方法院审理陈水扁...   \n16669  约会《天劫ol》BOSS 勇敢说出你的爱今天，《天劫ol》甜蜜七夕缤纷活动“爱就说出来”正式...   \n16420  2200点基金公司先跑 批量分红预防基民大撤退2008年以来成立的次新基金有122只，其中高...   \n12899  木家具新标准今起实施 具体定义各类木制家具今年“五一”，国家质量监督总局和国家标准化管理委员...   \n7929   《神兆OL》之PK不败的神话富有东方传奇色彩的大型多人在线横版手机网游巨作《神兆OL》已全面...   \n12858  美专家：易迎来上位机会 非实力因素令他跌出轮换新浪体育讯北京时间3月12日消息，据《华盛顿邮...   \n\n                                         cleaned_content  \\\n12781  组图驻阿富汗英军防弹内裤武装到命根子导语信息时报综合报道防弹内裤的点子或许引人发噱但背后的意...   \n10934  文明online冲锋夺奖结果公布史诗式即时战斗手机网游文明online复活转生冲级活动已经降...   \n19079  掌魔好友PK赢话费大奖一个人玩游戏太没劲来掌魔好友挑战发起挑战赛邀请朋友们一块来玩吧选择好友...   \n655    12X光变防抖长焦富士S1500带票仅1440作者陈亮相机背面是一个27英寸的广视角液晶取景...   \n6291   陈水扁父子本周将在法庭上对质中新网7月6日电据台湾中国时报报道台北地方法院审理陈水扁家庭弊案...   \n16669  约会天劫olBOSS勇敢说出你的爱今天天劫ol甜蜜七夕缤纷活动爱就说出来正式开启从即日到9月...   \n16420  2200点基金公司先跑批量分红预防基民大撤退2008年以来成立的次新基金有122只其中高达7...   \n12899  木家具新标准今起实施具体定义各类木制家具今年五一国家质量监督总局和国家标准化管理委员会共同发...   \n7929   神兆OL之PK不败的神话富有东方传奇色彩的大型多人在线横版手机网游巨作神兆OL已全面推出最为...   \n12858  美专家易迎来上位机会非实力因素令他跌出轮换新浪体育讯北京时间3月12日消息据华盛顿邮报记者迈...   \n\n                                           cuted_content  \n12781  组图 驻 阿富汗 英军 防弹 内裤 武装 命根子 导语 信息时报 综合 报道 防弹 内裤 点...  \n10934  文明 online 冲锋 夺奖 公布 史诗式 即时 手机 网游 文明 online 复活 转...  \n19079  掌魔 好友 PK 赢 话费 大奖 一个 人 玩游戏 太 没劲 掌 魔 好友 挑战 发起 挑战...  \n655    12 X光 变防抖 长焦 富士 S1500 带票 仅 1440 作者 陈 亮相 机 背面 一...  \n6291   陈水扁 父子 本周 法庭 上 对质 中新网 7 月 6 日电 台湾 中国时报 报道 台北 地...  \n16669  约会 天劫 olBOSS 勇敢 说出 爱 天劫 ol 甜蜜 七夕 缤纷 活动 爱 说 正式 ...  \n16420  2200 点 基金 公司 先跑 批量 分红 预防 基民 大 撤退 2008 年 成立 次 新...  \n12899  木家具 新 标准 今起 实施 定义 各类 木制家具 五一 国家 质量 监督 总局 国家 标准...  \n7929   神兆 OL PK 不败 神话 富有 东方 传奇色彩 大型 多人 在线 横版 手机 网游 巨作...  \n12858  美 专家 易 迎来 上位 机会 非 实力 因素 令 跌 出 轮换 新浪 体育讯 北京 时间 ...  ",
      "text/html": "<div>\n<style scoped>\n    .dataframe tbody tr th:only-of-type {\n        vertical-align: middle;\n    }\n\n    .dataframe tbody tr th {\n        vertical-align: top;\n    }\n\n    .dataframe thead th {\n        text-align: right;\n    }\n</style>\n<table border=\"1\" class=\"dataframe\">\n  <thead>\n    <tr style=\"text-align: right;\">\n      <th></th>\n      <th>content</th>\n      <th>cleaned_content</th>\n      <th>cuted_content</th>\n    </tr>\n  </thead>\n  <tbody>\n    <tr>\n      <th>12781</th>\n      <td>组图：驻阿富汗英军“防弹内裤” 武装到命根子导语：信息时报综合报道 防弹内裤的点子或许引人发...</td>\n      <td>组图驻阿富汗英军防弹内裤武装到命根子导语信息时报综合报道防弹内裤的点子或许引人发噱但背后的意...</td>\n      <td>组图 驻 阿富汗 英军 防弹 内裤 武装 命根子 导语 信息时报 综合 报道 防弹 内裤 点...</td>\n    </tr>\n    <tr>\n      <th>10934</th>\n      <td>《文明online》冲锋夺奖结果公布史诗式即时战斗手机网游《文明online》复活转生冲级活...</td>\n      <td>文明online冲锋夺奖结果公布史诗式即时战斗手机网游文明online复活转生冲级活动已经降...</td>\n      <td>文明 online 冲锋 夺奖 公布 史诗式 即时 手机 网游 文明 online 复活 转...</td>\n    </tr>\n    <tr>\n      <th>19079</th>\n      <td>《掌魔》好友PK 赢话费大奖一个人玩游戏太没劲？来掌魔“好友挑战”发起挑战赛，邀请朋友们一块...</td>\n      <td>掌魔好友PK赢话费大奖一个人玩游戏太没劲来掌魔好友挑战发起挑战赛邀请朋友们一块来玩吧选择好友...</td>\n      <td>掌魔 好友 PK 赢 话费 大奖 一个 人 玩游戏 太 没劲 掌 魔 好友 挑战 发起 挑战...</td>\n    </tr>\n    <tr>\n      <th>655</th>\n      <td>12X光变防抖长焦 富士S1500带票仅1440    作者：陈亮    相机背面是一个2....</td>\n      <td>12X光变防抖长焦富士S1500带票仅1440作者陈亮相机背面是一个27英寸的广视角液晶取景...</td>\n      <td>12 X光 变防抖 长焦 富士 S1500 带票 仅 1440 作者 陈 亮相 机 背面 一...</td>\n    </tr>\n    <tr>\n      <th>6291</th>\n      <td>陈水扁父子本周将在法庭上对质中新网7月6日电 据台湾《中国时报》报道，台北地方法院审理陈水扁...</td>\n      <td>陈水扁父子本周将在法庭上对质中新网7月6日电据台湾中国时报报道台北地方法院审理陈水扁家庭弊案...</td>\n      <td>陈水扁 父子 本周 法庭 上 对质 中新网 7 月 6 日电 台湾 中国时报 报道 台北 地...</td>\n    </tr>\n    <tr>\n      <th>16669</th>\n      <td>约会《天劫ol》BOSS 勇敢说出你的爱今天，《天劫ol》甜蜜七夕缤纷活动“爱就说出来”正式...</td>\n      <td>约会天劫olBOSS勇敢说出你的爱今天天劫ol甜蜜七夕缤纷活动爱就说出来正式开启从即日到9月...</td>\n      <td>约会 天劫 olBOSS 勇敢 说出 爱 天劫 ol 甜蜜 七夕 缤纷 活动 爱 说 正式 ...</td>\n    </tr>\n    <tr>\n      <th>16420</th>\n      <td>2200点基金公司先跑 批量分红预防基民大撤退2008年以来成立的次新基金有122只，其中高...</td>\n      <td>2200点基金公司先跑批量分红预防基民大撤退2008年以来成立的次新基金有122只其中高达7...</td>\n      <td>2200 点 基金 公司 先跑 批量 分红 预防 基民 大 撤退 2008 年 成立 次 新...</td>\n    </tr>\n    <tr>\n      <th>12899</th>\n      <td>木家具新标准今起实施 具体定义各类木制家具今年“五一”，国家质量监督总局和国家标准化管理委员...</td>\n      <td>木家具新标准今起实施具体定义各类木制家具今年五一国家质量监督总局和国家标准化管理委员会共同发...</td>\n      <td>木家具 新 标准 今起 实施 定义 各类 木制家具 五一 国家 质量 监督 总局 国家 标准...</td>\n    </tr>\n    <tr>\n      <th>7929</th>\n      <td>《神兆OL》之PK不败的神话富有东方传奇色彩的大型多人在线横版手机网游巨作《神兆OL》已全面...</td>\n      <td>神兆OL之PK不败的神话富有东方传奇色彩的大型多人在线横版手机网游巨作神兆OL已全面推出最为...</td>\n      <td>神兆 OL PK 不败 神话 富有 东方 传奇色彩 大型 多人 在线 横版 手机 网游 巨作...</td>\n    </tr>\n    <tr>\n      <th>12858</th>\n      <td>美专家：易迎来上位机会 非实力因素令他跌出轮换新浪体育讯北京时间3月12日消息，据《华盛顿邮...</td>\n      <td>美专家易迎来上位机会非实力因素令他跌出轮换新浪体育讯北京时间3月12日消息据华盛顿邮报记者迈...</td>\n      <td>美 专家 易 迎来 上位 机会 非 实力 因素 令 跌 出 轮换 新浪 体育讯 北京 时间 ...</td>\n    </tr>\n  </tbody>\n</table>\n</div>"
     },
     "metadata": {},
     "execution_count": 7
    }
   ],
   "source": [
    "import jieba as jb\n",
    "### 加载停用词\n",
    "stopwords = get_stopwords_list(\"../data/baidu_stopwords.txt\")\n",
    "# 文本获取停用词\n",
    "test_df['cuted_content']=test_df['cleaned_content'].apply(lambda x: \" \".join([w for w in list(jb.cut(x)) if w not in stopwords]))\n",
    "test_df.sample(10)"
   ]
  },
  {
   "cell_type": "code",
   "execution_count": 8,
   "metadata": {
    "tags": []
   },
   "outputs": [
    {
     "output_type": "stream",
     "name": "stdout",
     "text": "* Total different words: 214108.\n(20000, 256)\n"
    }
   ],
   "source": [
    "# 向量化文本\n",
    "MAX_NUM_WORDS = 100000 # 最多保留不同词语词数，频率从大到小\n",
    "MAX_SEQUENCE_LEN = 256\n",
    "EMBEDDING_DIM=128\n",
    "\n",
    "def tokenize(lang,max_num_words=None,max_sequence_len=300):\n",
    "    lang_tokenizer = tf.keras.preprocessing.text.Tokenizer(num_words=max_num_words, \n",
    "    filters='!\"#$%&()*+,-./:;<=>?@[\\\\]^_`{|}~', lower=True) # \n",
    "    lang_tokenizer.fit_on_texts(lang)\n",
    "\n",
    "    tensor = lang_tokenizer.texts_to_sequences(lang)\n",
    "\n",
    "    tensor = tf.keras.preprocessing.sequence.pad_sequences(tensor,maxlen=max_sequence_len,\n",
    "                                                            padding='post',truncating='post') # NOTE\n",
    "    print('* Total different words: %s.' % len(lang_tokenizer.word_index))\n",
    "    return tensor, lang_tokenizer\n",
    "# get X\n",
    "X,_=tokenize(test_df['cuted_content'].values,MAX_NUM_WORDS,MAX_SEQUENCE_LEN)\n",
    "print(X.shape)"
   ]
  },
  {
   "cell_type": "code",
   "execution_count": 9,
   "metadata": {},
   "outputs": [
    {
     "output_type": "execute_result",
     "data": {
      "text/plain": "(20000, 7)"
     },
     "metadata": {},
     "execution_count": 9
    }
   ],
   "source": [
    "y_pred=model.predict(X)\n",
    "y_pred.shape"
   ]
  },
  {
   "cell_type": "code",
   "execution_count": null,
   "metadata": {},
   "outputs": [],
   "source": [
    "y_pred1 = y_pred.argmax(axis = 1)\n",
    "y_pred1"
   ]
  },
  {
   "cell_type": "code",
   "execution_count": 35,
   "metadata": {},
   "outputs": [],
   "source": [
    "#{0: '家居', 1: '房产', 2: '教育', 3: '时尚', 4: '时政', 5: '科技', 6: '财经',7: '游戏',8: '娱乐',9: '体育'}\n",
    "#7类，分别为：财经、房产、家居、教育、科技、时尚、时政\n",
    "#10个类别:财经、房产、家居、教育、科技、时尚、时政、游戏、娱乐、体育。\n",
    "#{0: '可公开', 1: '低风险', 2: '中风险', 3: '高风险'}\n",
    "#rank_label对应关系:0{0,8,9} 1{2,3,7} 2{1,5} 3{4,6}\n",
    "def reflect_rank(line):\n",
    "    res=-1\n",
    "    if(line==0 or line==8 or line==9):\n",
    "        res=0\n",
    "    elif(line==2 or line==3 or line==7):\n",
    "        res=1\n",
    "    elif(line==1 or line==5):\n",
    "        res=2\n",
    "    elif(line==4 or line==6):\n",
    "        res=3\n",
    "    return res\n",
    "\n",
    "cn_class_dic={0: '家居', 1: '房产', 2: '教育', 3: '时尚', 4: '时政', 5: '科技', 6: '财经',7: '游戏',8: '娱乐',9: '体育'}\n",
    "cn_rank_dic={0: '可公开', 1: '低风险', 2: '中风险', 3: '高风险'}\n",
    "\n",
    "def cn_class_label(line):\n",
    "    return cn_class_dic[line]\n",
    "\n",
    "def cn_rank_label(line):\n",
    "    return cn_rank_dic[line]"
   ]
  },
  {
   "cell_type": "code",
   "execution_count": 36,
   "metadata": {},
   "outputs": [],
   "source": [
    "#id class_label rank_label\n",
    "\n",
    "test_pr=pd.DataFrame(y_pred1)\n",
    "test_pr.columns = ['class_label']\n",
    "test_pr['rank_label']=test_pr['class_label'].apply(reflect_rank)\n",
    "test_pr['class_label']=test_pr['class_label'].apply(cn_class_label)\n",
    "test_pr['rank_label']=test_pr['rank_label'].apply(cn_rank_label)"
   ]
  },
  {
   "cell_type": "code",
   "execution_count": 38,
   "metadata": {},
   "outputs": [],
   "source": [
    "test_pr.to_csv('submission.csv',index_label='id')"
   ]
  }
 ],
 "metadata": {
  "language_info": {
   "codemirror_mode": {
    "name": "ipython",
    "version": 3
   },
   "file_extension": ".py",
   "mimetype": "text/x-python",
   "name": "python",
   "nbconvert_exporter": "python",
   "pygments_lexer": "ipython3",
   "version": "3.8.5-final"
  },
  "orig_nbformat": 2,
  "kernelspec": {
   "name": "python38564bit47275b5740ad496586fab2f906b7e64c",
   "display_name": "Python 3.8.5 64-bit"
  }
 },
 "nbformat": 4,
 "nbformat_minor": 2
}