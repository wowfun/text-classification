{
 "metadata": {
  "language_info": {
   "codemirror_mode": {
    "name": "ipython",
    "version": 3
   },
   "file_extension": ".py",
   "mimetype": "text/x-python",
   "name": "python",
   "nbconvert_exporter": "python",
   "pygments_lexer": "ipython3",
   "version": "3.7.5-final"
  },
  "orig_nbformat": 2,
  "kernelspec": {
   "name": "Python 3.7.5 64-bit ('ml': conda)",
   "display_name": "Python 3.7.5 64-bit ('ml': conda)",
   "metadata": {
    "interpreter": {
     "hash": "abe8579b740d1cb10d188d77ebbade3f5898a2054c5c9521da41337df1eb2077"
    }
   }
  }
 },
 "nbformat": 4,
 "nbformat_minor": 2,
 "cells": [
  {
   "cell_type": "code",
   "execution_count": 1,
   "metadata": {},
   "outputs": [],
   "source": [
    "import pandas as pd\n",
    "import matplotlib.pyplot as plt\n",
    "import tensorflow as tf\n",
    "\n",
    "from sklearn.model_selection import train_test_split"
   ]
  },
  {
   "cell_type": "code",
   "execution_count": 2,
   "metadata": {},
   "outputs": [],
   "source": [
    "def plot_graphs(history, metric):\n",
    "  plt.plot(history.history[metric])\n",
    "  plt.plot(history.history['val_'+metric], '')\n",
    "  plt.xlabel(\"Epochs\")\n",
    "  plt.ylabel(metric)\n",
    "  plt.legend([metric, 'val_'+metric])\n",
    "  plt.show()"
   ]
  },
  {
   "cell_type": "code",
   "execution_count": 3,
   "metadata": {},
   "outputs": [
    {
     "output_type": "execute_result",
     "data": {
      "text/plain": [
       "                                          cuted_content  label\n",
       "0     人民网 北京 8 月 31 日电 孙竞 日前 进一步 规范 高等学校 命名 工作 依据 相关...      2\n",
       "1     一年 落叶 黄 一阵 秋雨 一阵 凉 整日 奔波 工作 忙 出门 别忘添 衣裳 金秋 时节 ...      0\n",
       "2     作者 祝 安顺 深圳大学 饶宗 颐 文化 研究院 编审 副教授 越来越 名校 毕业生 入职 ...      2\n",
       "3     此前 其有 品牌 Madawell 合作 系列 这回 确认 推出 名下 服装 系列 采访 中...      3\n",
       "4     眼下 疫情 依然 严峻 我国 大中小学 都 已 陆续 开学 疫情 防控 常态 化 学生 校园...      2\n",
       "...                                                 ...    ...\n",
       "6995  近期 国家 卫健委 发布 学校 传染病 症状 监测 预警 技术 指南 学校 传染病 达 预警...      2\n",
       "6996  新冠 肺炎 疫情 影响 之下 房企 纷纷 开设 线上 售楼处 据克而瑞 监测 超过 150 ...      1\n",
       "6997  学生 犯错 后 教师 惩戒 惩戒 惩戒 边界 9 月 广东省 学校 条例 简称 条例 施行 ...      2\n",
       "6998  6 月 3 日 下午 荣耀 带来 全新 荣耀 Play4 系列 新品 包括 Play4 Pl...      5\n",
       "6999  人民日报 好消息 速扩 天然气 价格 4 月 1 日起 大幅 下调 发改委 4 月 1 日起...      4\n",
       "\n",
       "[7000 rows x 2 columns]"
      ],
      "text/html": "<div>\n<style scoped>\n    .dataframe tbody tr th:only-of-type {\n        vertical-align: middle;\n    }\n\n    .dataframe tbody tr th {\n        vertical-align: top;\n    }\n\n    .dataframe thead th {\n        text-align: right;\n    }\n</style>\n<table border=\"1\" class=\"dataframe\">\n  <thead>\n    <tr style=\"text-align: right;\">\n      <th></th>\n      <th>cuted_content</th>\n      <th>label</th>\n    </tr>\n  </thead>\n  <tbody>\n    <tr>\n      <th>0</th>\n      <td>人民网 北京 8 月 31 日电 孙竞 日前 进一步 规范 高等学校 命名 工作 依据 相关...</td>\n      <td>2</td>\n    </tr>\n    <tr>\n      <th>1</th>\n      <td>一年 落叶 黄 一阵 秋雨 一阵 凉 整日 奔波 工作 忙 出门 别忘添 衣裳 金秋 时节 ...</td>\n      <td>0</td>\n    </tr>\n    <tr>\n      <th>2</th>\n      <td>作者 祝 安顺 深圳大学 饶宗 颐 文化 研究院 编审 副教授 越来越 名校 毕业生 入职 ...</td>\n      <td>2</td>\n    </tr>\n    <tr>\n      <th>3</th>\n      <td>此前 其有 品牌 Madawell 合作 系列 这回 确认 推出 名下 服装 系列 采访 中...</td>\n      <td>3</td>\n    </tr>\n    <tr>\n      <th>4</th>\n      <td>眼下 疫情 依然 严峻 我国 大中小学 都 已 陆续 开学 疫情 防控 常态 化 学生 校园...</td>\n      <td>2</td>\n    </tr>\n    <tr>\n      <th>...</th>\n      <td>...</td>\n      <td>...</td>\n    </tr>\n    <tr>\n      <th>6995</th>\n      <td>近期 国家 卫健委 发布 学校 传染病 症状 监测 预警 技术 指南 学校 传染病 达 预警...</td>\n      <td>2</td>\n    </tr>\n    <tr>\n      <th>6996</th>\n      <td>新冠 肺炎 疫情 影响 之下 房企 纷纷 开设 线上 售楼处 据克而瑞 监测 超过 150 ...</td>\n      <td>1</td>\n    </tr>\n    <tr>\n      <th>6997</th>\n      <td>学生 犯错 后 教师 惩戒 惩戒 惩戒 边界 9 月 广东省 学校 条例 简称 条例 施行 ...</td>\n      <td>2</td>\n    </tr>\n    <tr>\n      <th>6998</th>\n      <td>6 月 3 日 下午 荣耀 带来 全新 荣耀 Play4 系列 新品 包括 Play4 Pl...</td>\n      <td>5</td>\n    </tr>\n    <tr>\n      <th>6999</th>\n      <td>人民日报 好消息 速扩 天然气 价格 4 月 1 日起 大幅 下调 发改委 4 月 1 日起...</td>\n      <td>4</td>\n    </tr>\n  </tbody>\n</table>\n<p>7000 rows × 2 columns</p>\n</div>"
     },
     "metadata": {},
     "execution_count": 3
    }
   ],
   "source": [
    "train_ds='../data/train/labeled_data_processed.csv'\n",
    "# test_ds='../data/test_data.csv'\n",
    "\n",
    "train_df=pd.read_csv(train_ds)[['cuted_content','label']]\n",
    "train_df"
   ]
  },
  {
   "cell_type": "code",
   "execution_count": 4,
   "metadata": {},
   "outputs": [
    {
     "output_type": "stream",
     "name": "stdout",
     "text": [
      "* Total different words: 143800.\n(7000, 256)\n"
     ]
    }
   ],
   "source": [
    "# 向量化文本\n",
    "MAX_NUM_WORDS = 100000 # 最多保留不同词语词数，频率从大到小\n",
    "MAX_SEQUENCE_LEN = 256\n",
    "EMBEDDING_DIM=128\n",
    "\n",
    "def tokenize(lang,max_num_words=None,max_sequence_len=300):\n",
    "    lang_tokenizer = tf.keras.preprocessing.text.Tokenizer(num_words=max_num_words, \n",
    "    filters='!\"#$%&()*+,-./:;<=>?@[\\\\]^_`{|}~', lower=True) # \n",
    "    lang_tokenizer.fit_on_texts(lang)\n",
    "\n",
    "    tensor = lang_tokenizer.texts_to_sequences(lang)\n",
    "\n",
    "    tensor = tf.keras.preprocessing.sequence.pad_sequences(tensor,maxlen=max_sequence_len,\n",
    "                                                            padding='post',truncating='post') # NOTE\n",
    "    print('* Total different words: %s.' % len(lang_tokenizer.word_index))\n",
    "    return tensor, lang_tokenizer\n",
    "# get X\n",
    "X,_=tokenize(train_df['cuted_content'].values,MAX_NUM_WORDS,MAX_SEQUENCE_LEN)\n",
    "print(X.shape)"
   ]
  },
  {
   "cell_type": "code",
   "execution_count": 5,
   "metadata": {},
   "outputs": [
    {
     "output_type": "stream",
     "name": "stdout",
     "text": [
      "(7000, 7)\n"
     ]
    }
   ],
   "source": [
    "# get Y one-hot\n",
    "Y=pd.get_dummies(train_df['label']).values\n",
    "print(Y.shape)"
   ]
  },
  {
   "cell_type": "code",
   "execution_count": 6,
   "metadata": {},
   "outputs": [
    {
     "output_type": "stream",
     "name": "stdout",
     "text": [
      "(6300, 256) (6300, 7)\n(700, 256) (700, 7)\n"
     ]
    }
   ],
   "source": [
    "# split train and val\n",
    "X_train=X\n",
    "Y_train=Y\n",
    "print(X_train.shape,Y_train.shape)\n",
    "\n",
    "# X_train, X_val, Y_train, Y_val = train_test_split(X,Y, test_size = 0.10)\n",
    "# print(X_val.shape,Y_val.shape)"
   ]
  },
  {
   "cell_type": "code",
   "execution_count": 7,
   "metadata": {},
   "outputs": [
    {
     "output_type": "stream",
     "name": "stdout",
     "text": [
      "WARNING:tensorflow:From /Users/kevin/opt/anaconda3/envs/ml/lib/python3.7/site-packages/tensorflow_core/python/keras/initializers.py:119: calling RandomUniform.__init__ (from tensorflow.python.ops.init_ops) with dtype is deprecated and will be removed in a future version.\n",
      "Instructions for updating:\n",
      "Call initializer instance with the dtype argument instead of passing it to the constructor\n",
      "WARNING:tensorflow:From /Users/kevin/opt/anaconda3/envs/ml/lib/python3.7/site-packages/tensorflow_core/python/ops/resource_variable_ops.py:1630: calling BaseResourceVariable.__init__ (from tensorflow.python.ops.resource_variable_ops) with constraint is deprecated and will be removed in a future version.\n",
      "Instructions for updating:\n",
      "If using Keras pass *_constraint arguments to layers.\n",
      "Model: \"sequential\"\n",
      "_________________________________________________________________\n",
      "Layer (type)                 Output Shape              Param #   \n",
      "=================================================================\n",
      "embedding (Embedding)        (None, 256, 128)          12800000  \n",
      "_________________________________________________________________\n",
      "spatial_dropout1d (SpatialDr (None, 256, 128)          0         \n",
      "_________________________________________________________________\n",
      "lstm (LSTM)                  (None, 128)               131584    \n",
      "_________________________________________________________________\n",
      "dense (Dense)                (None, 7)                 903       \n",
      "=================================================================\n",
      "Total params: 12,932,487\n",
      "Trainable params: 12,932,487\n",
      "Non-trainable params: 0\n",
      "_________________________________________________________________\n",
      "None\n"
     ]
    }
   ],
   "source": [
    "# build model\n",
    "DROUPOUT=0.2\n",
    "RECURRENT_DROPOUT=0.2\n",
    "UNITS=128\n",
    "\n",
    "model = tf.keras.models.Sequential()\n",
    "model.add(tf.keras.layers.Embedding(MAX_NUM_WORDS, EMBEDDING_DIM, input_length=X.shape[1]))\n",
    "model.add(tf.keras.layers.SpatialDropout1D(DROUPOUT))\n",
    "model.add(tf.keras.layers.LSTM(UNITS, dropout=DROUPOUT, recurrent_dropout=RECURRENT_DROPOUT))\n",
    "model.add(tf.keras.layers.Dense(Y.shape[1], activation='softmax'))\n",
    "model.compile(loss='categorical_crossentropy', optimizer='adam', metrics=['accuracy'])\n",
    "print(model.summary())"
   ]
  },
  {
   "cell_type": "code",
   "execution_count": 8,
   "metadata": {},
   "outputs": [
    {
     "output_type": "execute_result",
     "data": {
      "text/plain": [
       "[<tensorflow.python.keras.callbacks.EarlyStopping at 0x1a51f97c90>]"
      ]
     },
     "metadata": {},
     "execution_count": 8
    }
   ],
   "source": [
    "# callbacks\n",
    "early_stopping=tf.keras.callbacks.EarlyStopping(monitor='val_loss', patience=3, min_delta=0.0001)\n",
    "\n",
    "callbacks=[]\n",
    "# callbacks.append(early_stopping)"
   ]
  },
  {
   "cell_type": "code",
   "execution_count": null,
   "metadata": {},
   "outputs": [],
   "source": [
    "# train model\n",
    "EPOCHS=10\n",
    "BATCH_SIZE=64\n",
    "\n",
    "VAL_SPLIT=0.1\n",
    "\n",
    "history = model.fit(X_train, Y_train, epochs=EPOCHS, batch_size=BATCH_SIZE,validation_split=VAL_SPLIT,\n",
    "                    callbacks=callbacks)"
   ]
  },
  {
   "cell_type": "code",
   "execution_count": null,
   "metadata": {},
   "outputs": [],
   "source": [
    "plt.title('Loss')\n",
    "plt.plot(history.history['loss'], label='train')\n",
    "plt.plot(history.history['val_loss'], label='val')\n",
    "plt.legend()\n",
    "plt.show()"
   ]
  },
  {
   "cell_type": "code",
   "execution_count": null,
   "metadata": {},
   "outputs": [],
   "source": [
    "plt.title('Accuracy')\n",
    "plt.plot(history.history['acc'], label='train')\n",
    "plt.plot(history.history['val_acc'], label='val')\n",
    "plt.legend()\n",
    "plt.show()"
   ]
  }
 ]
}